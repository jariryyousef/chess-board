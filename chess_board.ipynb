{
 "cells": [
  {
   "cell_type": "code",
   "execution_count": 1,
   "metadata": {},
   "outputs": [],
   "source": [
    "%matplotlib inline\n",
    "import numpy as np\n",
    "import matplotlib.pyplot as plt"
   ]
  },
  {
   "cell_type": "code",
   "execution_count": 75,
   "metadata": {},
   "outputs": [
    {
     "data": {
      "image/png": "[encoded data removed]",
      "text/plain": [
       "<Figure size 432x288 with 1 Axes>"
      ]
     },
     "metadata": {
      "needs_background": "light"
     },
     "output_type": "display_data"
    }
   ],
   "source": [
    "class ChessBoard:\n",
    "    def __init__(self):\n",
    "        self.gred=np.zeros((8,8,3),int)\n",
    "\n",
    "        for row in range(8):\n",
    "            for col in range(8):\n",
    "                if (not col % 2 and not row % 2) or (col % 2 and row % 2):\n",
    "                    self.gred[row,col] = (255,255,255)\n",
    "\n",
    "    def add_red(self,row,col):\n",
    "        red = (255,0,0)\n",
    "        self.gred[row][col]=red\n",
    "        self.red=[row,col]\n",
    "\n",
    "    def add_blue(self,row,col):\n",
    "        blue = (0,0,255)\n",
    "        self.gred[row][col]=blue\n",
    "        self.blue=[row,col]\n",
    "\n",
    "    def render(self):\n",
    "       plt.imshow(self.gred)\n",
    "\n",
    "    def is_under_attack(self):\n",
    "        if self.red[0]==self.blue[0] or self.red[1]==self.blue[1] or (self.red[0]-self.blue[0]==self.red[1]-self.blue[1]):\n",
    "            return True\n",
    "        else:\n",
    "            return False\n",
    "\n",
    "board=ChessBoard()\n",
    "# board.add_red(1,5)\n",
    "# board.add_blue(7,5)\n",
    "# # board.is_under_attack()\n",
    "board.render()\n",
    "# board.is_under_attack()"
   ]
  },
  {
   "cell_type": "markdown",
   "metadata": {},
   "source": [
    "# queens on same row should be “under attack”"
   ]
  },
  {
   "cell_type": "code",
   "execution_count": 90,
   "metadata": {},
   "outputs": [
    {
     "data": {
      "text/plain": [
       "True"
      ]
     },
     "execution_count": 90,
     "metadata": {},
     "output_type": "execute_result"
    },
    {
     "data": {
      "image/png": "[encoded data removed]",
      "text/plain": [
       "<Figure size 432x288 with 1 Axes>"
      ]
     },
     "metadata": {
      "needs_background": "light"
     },
     "output_type": "display_data"
    }
   ],
   "source": [
    "board=ChessBoard()\n",
    "board.add_red(3,6)\n",
    "board.add_blue(3,2)\n",
    "assert board.is_under_attack()==True\n",
    "board.render()\n",
    "board.is_under_attack()"
   ]
  },
  {
   "cell_type": "markdown",
   "metadata": {},
   "source": [
    "# queens on same column should be “under attack”"
   ]
  },
  {
   "cell_type": "code",
   "execution_count": 83,
   "metadata": {},
   "outputs": [
    {
     "data": {
      "text/plain": [
       "True"
      ]
     },
     "execution_count": 83,
     "metadata": {},
     "output_type": "execute_result"
    },
    {
     "data": {
      "image/png": "[encoded data removed]",
      "text/plain": [
       "<Figure size 432x288 with 1 Axes>"
      ]
     },
     "metadata": {
      "needs_background": "light"
     },
     "output_type": "display_data"
    }
   ],
   "source": [
    "board=ChessBoard()\n",
    "board.add_red(1,3)\n",
    "board.add_blue(7,3)\n",
    "assert board.is_under_attack()==True\n",
    "board.render()\n",
    "board.is_under_attack()"
   ]
  },
  {
   "cell_type": "markdown",
   "metadata": {},
   "source": [
    "# queens on same diagonal should be “under attack”"
   ]
  },
  {
   "cell_type": "code",
   "execution_count": 89,
   "metadata": {},
   "outputs": [
    {
     "data": {
      "text/plain": [
       "True"
      ]
     },
     "execution_count": 89,
     "metadata": {},
     "output_type": "execute_result"
    },
    {
     "data": {
      "image/png": "[encoded data removed]",
      "text/plain": [
       "<Figure size 432x288 with 1 Axes>"
      ]
     },
     "metadata": {
      "needs_background": "light"
     },
     "output_type": "display_data"
    }
   ],
   "source": [
    "board=ChessBoard()\n",
    "board.add_red(2,2)\n",
    "board.add_blue(6,6)\n",
    "assert board.is_under_attack()==True\n",
    "board.render()\n",
    "board.is_under_attack() "
   ]
  },
  {
   "cell_type": "markdown",
   "metadata": {},
   "source": [
    "# queens with any other coordinates should NOT be “under attack”"
   ]
  },
  {
   "cell_type": "code",
   "execution_count": 87,
   "metadata": {},
   "outputs": [
    {
     "data": {
      "text/plain": [
       "False"
      ]
     },
     "execution_count": 87,
     "metadata": {},
     "output_type": "execute_result"
    },
    {
     "data": {
      "image/png": "[encoded data removed]",
      "text/plain": [
       "<Figure size 432x288 with 1 Axes>"
      ]
     },
     "metadata": {
      "needs_background": "light"
     },
     "output_type": "display_data"
    }
   ],
   "source": [
    "board=ChessBoard()\n",
    "board.add_red(2,2)\n",
    "board.add_blue(6,7)\n",
    "assert board.is_under_attack()==False\n",
    "board.render()\n",
    "board.is_under_attack() "
   ]
  }
 ],
 "metadata": {
  "interpreter": {
   "hash": "b93a159468a70f9af11d76bead15af235685408e61c825dcb5e75918d92204aa"
  },
  "kernelspec": {
   "display_name": "Python 3.9.5 64-bit ('.venv': poetry)",
   "name": "python3"
  },
  "language_info": {
   "codemirror_mode": {
    "name": "ipython",
    "version": 3
   },
   "file_extension": ".py",
   "mimetype": "text/x-python",
   "name": "python",
   "nbconvert_exporter": "python",
   "pygments_lexer": "ipython3",
   "version": "3.9.5"
  },
  "orig_nbformat": 4
 },
 "nbformat": 4,
 "nbformat_minor": 2
}
